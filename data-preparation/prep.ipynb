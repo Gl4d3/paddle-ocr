{
 "cells": [
  {
   "cell_type": "code",
   "execution_count": null,
   "metadata": {},
   "outputs": [],
   "source": [
    "# Import Libraries\n",
    "import os\n",
    "import json\n",
    "from PIL import Image\n",
    "import numpy as np\n",
    "from sklearn.model_selection import train_test_split\n",
    "\n",
    "print(\"Imported successfully\")"
   ]
  },
  {
   "cell_type": "code",
   "execution_count": null,
   "metadata": {},
   "outputs": [],
   "source": [
    "# Unpack tar file\n",
    "import tarfile\n",
    "tar = tarfile.open(\"/kaggle/input/tenthofstepofmeterdigits/datasets.tar\")\n",
    "os.makedirs(\"images\", exist_ok=True)\n",
    "tar.extractall('images')\n",
    "tar.close()\n",
    "print(\"Successfully unpacked\")"
   ]
  },
  {
   "cell_type": "code",
   "execution_count": null,
   "metadata": {},
   "outputs": [],
   "source": []
  }
 ],
 "metadata": {
  "language_info": {
   "name": "python"
  }
 },
 "nbformat": 4,
 "nbformat_minor": 2
}
